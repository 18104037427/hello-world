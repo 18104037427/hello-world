{
 "cells": [
  {
   "cell_type": "code",
   "execution_count": 1,
   "metadata": {
    "pycharm": {
     "name": "#%%\n"
    }
   },
   "outputs": [],
   "source": [
    "import numpy as np\n",
    "import matplotlib.pyplot as plt"
   ]
  },
  {
   "cell_type": "markdown",
   "source": [
    "## 绘图函数"
   ],
   "metadata": {
    "collapsed": false,
    "pycharm": {
     "name": "#%% md\n"
    }
   }
  },
  {
   "cell_type": "code",
   "execution_count": 2,
   "metadata": {
    "pycharm": {
     "name": "#%%\n"
    }
   },
   "outputs": [],
   "source": [
    "def mydrawts(y):\n",
    "    myname='LIU_CHUAN'\n",
    "    fig = plt.figure(figsize=(10,8))\n",
    "    ts_ax=plt.subplot2grid((2,2),(0,0),colspan=2)\n",
    "    acf_ax=plt.subplot2grid((2,2),(1,0))\n",
    "    pacf_ax=plt.subplot2grid((2,2),(1,1))\n",
    "    ts_ax.plot(y,'*-')\n",
    "    ts_ax.set_title('Time Series Analysis Plots(custom %s)'%myname)\n",
    "    myacf=np.ones((17))\n",
    "    n=len(y)\n",
    "    mean_value=y.mean()\n",
    "    for k in range(17):\n",
    "        Numerator=0\n",
    "        Denominator=0\n",
    "        for i in range(0,n-k):\n",
    "            Numerator+=(y[i]-mean_value)*(y[i+k]-mean_value)\n",
    "        for i in range(0,n):\n",
    "            Denominator+=(y[i]-mean_value)**2\n",
    "        myacf[k]=Numerator/Denominator\n",
    "    twosigma=np.ones((17))\n",
    "    twosigma[0]=(1/n)**0.5\n",
    "    for i in range(0,17):\n",
    "        sum=0\n",
    "        for j in range(0,i):\n",
    "            sum+=myacf[j]**2\n",
    "        twosigma[i]=((1/n)*(1+2*sum))**0.5\n",
    "    acf_ax.bar(range(len(myacf)),myacf)\n",
    "    acf_ax.fill_between(range(len(myacf)),-1*twosigma,twosigma,color='lightblue',alpha=0.7)\n",
    "    plt.show()\n",
    "    plt.close()"
   ]
  },
  {
   "cell_type": "markdown",
   "metadata": {
    "pycharm": {
     "name": "#%% md\n"
    }
   },
   "source": [
    "𝑥𝑡 = 0.8𝑥𝑡−1 + 𝜀"
   ]
  },
  {
   "cell_type": "code",
   "execution_count": 3,
   "metadata": {
    "pycharm": {
     "name": "#%%\n"
    }
   },
   "outputs": [],
   "source": [
    "x=np.zeros(101)\n",
    "for i in range(1,101):\n",
    "    x[i]=x[i-1]*0.8+np.random.normal(0, 1, 1)\n",
    "mydrawts(x)"
   ]
  },
  {
   "cell_type": "markdown",
   "metadata": {
    "pycharm": {
     "name": "#%% md\n"
    }
   },
   "source": [
    "𝑥𝑡 = −1.1𝑥𝑡−1 + 𝜀"
   ]
  },
  {
   "cell_type": "markdown",
   "source": [],
   "metadata": {
    "collapsed": false,
    "pycharm": {
     "name": "#%% md\n"
    }
   }
  },
  {
   "cell_type": "code",
   "execution_count": 4,
   "metadata": {
    "pycharm": {
     "name": "#%%\n"
    }
   },
   "outputs": [],
   "source": [
    "x=np.zeros(101)\n",
    "for i in range(1,101):\n",
    "    x[i]=-x[i-1]*1.1+np.random.normal(0, 1, 1)\n",
    "mydrawts(x)"
   ]
  },
  {
   "cell_type": "markdown",
   "metadata": {
    "pycharm": {
     "name": "#%% md\n"
    }
   },
   "source": [
    "𝑥𝑡 = 𝑥𝑡−1 − 0.5𝑥𝑡−2 + 𝜀"
   ]
  },
  {
   "cell_type": "code",
   "execution_count": 5,
   "metadata": {
    "pycharm": {
     "name": "#%%\n"
    }
   },
   "outputs": [],
   "source": [
    "x=np.zeros(101)\n",
    "x[0]=np.random.normal(0, 1, 1)\n",
    "x[1]=np.random.normal(0, 1, 1)\n",
    "for i in range(1,101):\n",
    "    x[i]=x[i-1]-0.5*x[i-2]+np.random.normal(0, 1, 1)\n",
    "mydrawts(x)"
   ]
  },
  {
   "cell_type": "markdown",
   "metadata": {
    "pycharm": {
     "name": "#%% md\n"
    }
   },
   "source": [
    "𝑥𝑡 = 𝑥𝑡−1 + 0.5𝑥𝑡−2 + 𝜀"
   ]
  },
  {
   "cell_type": "code",
   "execution_count": 6,
   "metadata": {
    "pycharm": {
     "name": "#%%\n"
    }
   },
   "outputs": [],
   "source": [
    "x=np.zeros(101)\n",
    "x[0]=np.random.normal(0, 1, 1)\n",
    "x[1]=np.random.normal(0, 1, 1)\n",
    "for i in range(1,101):\n",
    "    x[i]=x[i-1]+0.5*x[i-2]+np.random.normal(0, 1, 1)\n",
    "mydrawts(x)"
   ]
  },
  {
   "cell_type": "markdown",
   "source": [
    "𝑥𝑡 = −0.9𝑥𝑡−1 + 𝜀"
   ],
   "metadata": {
    "collapsed": false,
    "pycharm": {
     "name": "#%% md\n"
    }
   }
  },
  {
   "cell_type": "code",
   "execution_count": null,
   "metadata": {
    "pycharm": {
     "name": "#%%\n"
    }
   },
   "outputs": [],
   "source": [
    "x = np.zeros(101)\n",
    "for i in range(1, 101):\n",
    "    x[i] = -x[i - 1] * 0.9 + np.random.normal(0, 1, 1)\n",
    "mydrawts(x)"
   ]
  },
  {
   "cell_type": "markdown",
   "source": [
    "x𝑡 = 0.9x𝑡−1 − 0.2x𝑡−2 + 𝜀"
   ],
   "metadata": {
    "collapsed": false,
    "pycharm": {
     "name": "#%% md\n"
    }
   }
  },
  {
   "cell_type": "code",
   "execution_count": null,
   "outputs": [],
   "source": [
    "x = np.zeros(101)\n",
    "x[0] = np.random.normal(0, 1, 1)\n",
    "x[1] = np.random.normal(0, 1, 1)\n",
    "for i in range(1, 101):\n",
    "    x[i] = x[i - 1]*0.9 - 0.2 * x[i - 2] + np.random.normal(0, 1, 1)\n",
    "mydrawts(x)"
   ],
   "metadata": {
    "collapsed": false,
    "pycharm": {
     "name": "#%%\n"
    }
   }
  }
 ],
 "metadata": {
  "kernelspec": {
   "display_name": "Python 3",
   "language": "python",
   "name": "python3"
  },
  "language_info": {
   "codemirror_mode": {
    "name": "ipython",
    "version": 3
   },
   "file_extension": ".py",
   "mimetype": "text/x-python",
   "name": "python",
   "nbconvert_exporter": "python",
   "pygments_lexer": "ipython3",
   "version": "3.8.3"
  }
 },
 "nbformat": 4,
 "nbformat_minor": 4
}