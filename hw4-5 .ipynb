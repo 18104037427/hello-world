{
 "cells": [
  {
   "cell_type": "code",
   "execution_count": 2,
   "metadata": {
    "pycharm": {
     "name": "#%%\n"
    }
   },
   "outputs": [],
   "source": [
    "import numpy as np\n",
    "import matplotlib.pyplot as plt\n",
    "import pandas as pd\n",
    "import statsmodels.tsa.api as smt\n",
    "import statsmodels.api as sm"
   ]
  },
  {
   "cell_type": "markdown",
   "metadata": {
    "pycharm": {
     "name": "#%% md\n"
    }
   },
   "source": [
    "## 画时序图，ACF,PACF"
   ]
  },
  {
   "cell_type": "code",
   "execution_count": 3,
   "metadata": {
    "pycharm": {
     "name": "#%%\n"
    }
   },
   "outputs": [],
   "source": [
    "def drawts(y,pname):\n",
    "    ##draw ax\n",
    "    fig = plt.figure(figsize=(10,8))\n",
    "    ts_ax=plt.subplot2grid((2,2),(0,0),colspan=2)\n",
    "    acf_ax=plt.subplot2grid((2,2),(1,0))\n",
    "    pacf_ax=plt.subplot2grid((2,2),(1,1))\n",
    "    ##draw plot\n",
    "    ts_ax.plot(y,'*-')\n",
    "    ts_ax.set_title('Time Series Analysis Plots')\n",
    "    smt.graphics.plot_acf(y,lags=None,ax=acf_ax,alpha=0.05) ##2sigma\n",
    "    smt.graphics.plot_pacf(y,lags=None,ax=pacf_ax,alpha=0.05)  ##2sigma\n",
    "    #plt.savefig('%s.jpg'%pname,dpi=256)\n",
    "    plt.show()\n",
    "    plt.close()"
   ]
  },
  {
   "cell_type": "markdown",
   "metadata": {
    "pycharm": {
     "name": "#%% md\n"
    }
   },
   "source": [
    "## 计算季节指数"
   ]
  },
  {
   "cell_type": "code",
   "execution_count": 4,
   "metadata": {
    "pycharm": {
     "name": "#%%\n"
    }
   },
   "outputs": [],
   "source": [
    "def Seasonal_index(y):\n",
    "    S = np.zeros((12))\n",
    "    for i in range(12):\n",
    "        S[i] = np.mean(y[i::12]) / np.mean(y)\n",
    "    print('Si:')\n",
    "    print(S)\n",
    "    plt.plot(np.arange(1, 12 + 1), S)\n",
    "    plt.xlabel('month')\n",
    "    plt.ylabel('Si')\n",
    "    plt.title('Si')\n",
    "    plt.show()\n",
    "    return S"
   ]
  },
  {
   "cell_type": "markdown",
   "metadata": {
    "pycharm": {
     "name": "#%% md\n"
    }
   },
   "source": [
    "## 消除季节指数的影响"
   ]
  },
  {
   "cell_type": "code",
   "execution_count": null,
   "metadata": {
    "pycharm": {
     "name": "#%%\n",
     "is_executing": true
    }
   },
   "outputs": [],
   "source": [
    "def Eliminate(y,S):\n",
    "    period=len(S)\n",
    "    output=[0]*len(y)\n",
    "    for i in range(0,len(y)):\n",
    "        output[i]=y[i]/S[i%period]\n",
    "    return output"
   ]
  },
  {
   "cell_type": "markdown",
   "metadata": {
    "pycharm": {
     "name": "#%% md\n"
    }
   },
   "source": [
    "## 增加季节指数的影响"
   ]
  },
  {
   "cell_type": "code",
   "execution_count": null,
   "metadata": {
    "pycharm": {
     "name": "#%%\n",
     "is_executing": true
    }
   },
   "outputs": [],
   "source": [
    "def Augment(y, S):\n",
    "    period = len(S)\n",
    "    output = [0]*len(y)\n",
    "    for i in range(0,len(y)):\n",
    "        output[i] = y[i]*S[i%period]\n",
    "    return output"
   ]
  },
  {
   "cell_type": "markdown",
   "metadata": {
    "pycharm": {
     "name": "#%% md\n"
    }
   },
   "source": [
    "## 绘制对比图"
   ]
  },
  {
   "cell_type": "code",
   "execution_count": null,
   "metadata": {
    "pycharm": {
     "name": "#%%\n",
     "is_executing": true
    }
   },
   "outputs": [],
   "source": [
    "def plotcon(y,ypred,pname):\n",
    "    plt.plot(y,'*-',label='observe')\n",
    "    plt.plot(ypred,label='fitted')\n",
    "    plt.legend()\n",
    "    plt.title('observe and fitted')\n",
    "    plt.show()"
   ]
  },
  {
   "cell_type": "markdown",
   "source": [
    "## 分析结果"
   ],
   "metadata": {
    "collapsed": false,
    "pycharm": {
     "name": "#%% md\n"
    }
   }
  },
  {
   "cell_type": "code",
   "execution_count": null,
   "outputs": [],
   "source": [
    "dfname='./时间序列分析/HW4-5/data1.11.csv'\n",
    "y=pd.read_csv('%s'%dfname,header=None)\n",
    "y.iloc[:, 0] = y.iloc[:, 0].astype('float')\n",
    "y = y.values[:, 0]\n",
    "drawts(y,dfname)\n",
    "S=Seasonal_index(y)\n",
    "output=Eliminate(y,S)\n",
    "length=len(output)\n",
    "y_axis=np.arange(length)\n",
    "plt.title('Time Series Analysis Plots')\n",
    "plt.plot(y_axis,output,'*-')\n",
    "plt.show()\n",
    "t = np.arange(1, len(output) + 1)\n",
    "est = sm.OLS(y, sm.add_constant(t)).fit()\n",
    "print(est.summary())\n",
    "print('sigma2=%f' % est.resid.std() ** 2)\n",
    "ypred = est.predict(sm.add_constant(t))\n",
    "ypred=Augment(ypred,S)\n",
    "plotcon(y, ypred, dfname)"
   ],
   "metadata": {
    "collapsed": false,
    "pycharm": {
     "name": "#%%\n"
    }
   }
  }
 ],
 "metadata": {
  "kernelspec": {
   "display_name": "Python 3",
   "language": "python",
   "name": "python3"
  },
  "language_info": {
   "codemirror_mode": {
    "name": "ipython",
    "version": 3
   },
   "file_extension": ".py",
   "mimetype": "text/x-python",
   "name": "python",
   "nbconvert_exporter": "python",
   "pygments_lexer": "ipython3",
   "version": "3.8.3"
  }
 },
 "nbformat": 4,
 "nbformat_minor": 4
}