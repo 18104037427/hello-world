{
 "cells": [
  {
   "cell_type": "markdown",
   "source": [],
   "metadata": {
    "collapsed": false,
    "pycharm": {
     "name": "#%% md\n"
    }
   }
  },
  {
   "cell_type": "code",
   "execution_count": null,
   "outputs": [],
   "source": [
    "import numpy as np\n",
    "import matplotlib.pyplot as plt\n",
    "import pandas as pd\n",
    "from statsmodels.stats.diagnostic import acorr_ljungbox as lb_test\n",
    "import statsmodels.tsa.api as smt"
   ],
   "metadata": {
    "collapsed": false,
    "pycharm": {
     "name": "#%%\n"
    }
   }
  },
  {
   "cell_type": "markdown",
   "source": [
    "## 导入"
   ],
   "metadata": {
    "collapsed": false,
    "pycharm": {
     "name": "#%% md\n"
    }
   }
  },
  {
   "cell_type": "code",
   "execution_count": null,
   "outputs": [],
   "source": [
    "def calcuate_acf(y):\n",
    "    myacf = np.ones((17))\n",
    "    n = len(y)\n",
    "    mean_value = y.mean()\n",
    "    for k in range(17):\n",
    "        Numerator = 0\n",
    "        Denominator = 0\n",
    "        for i in range(0, n - k):\n",
    "            Numerator += (y[i] - mean_value) * (y[i + k] - mean_value)\n",
    "        for i in range(0, n):\n",
    "            Denominator += (y[i] - mean_value) ** 2\n",
    "        myacf[k] = Numerator / Denominator\n",
    "    return myacf"
   ],
   "metadata": {
    "collapsed": false,
    "pycharm": {
     "name": "#%%\n"
    }
   }
  },
  {
   "cell_type": "markdown",
   "source": [
    "## 延迟自相关函数的计算"
   ],
   "metadata": {
    "collapsed": false,
    "pycharm": {
     "name": "#%% md\n"
    }
   }
  },
  {
   "cell_type": "code",
   "execution_count": null,
   "outputs": [],
   "source": [
    "def mypurerandtest(y,acf):\n",
    "    LB = np.zeros(13)\n",
    "    n=len(y)\n",
    "    for i in range(1,13):\n",
    "        for k in range(1,i+1):\n",
    "            LB[i]+=acf[k]**2/(n-k)\n",
    "    LB=LB*n*(n+2)\n",
    "    lag = np.arange(13)\n",
    "    #np.c_中的c_是 column(列)的缩写，就是按列叠加两个矩阵，就是把两个矩阵左右组合，要求行数相等\n",
    "    myd = pd.DataFrame(np.c_[lag, LB], columns=['lags', 'LB'])\n",
    "    print(myd)\n",
    "    print('#'*20)\n",
    "    #LB第0位为0\n",
    "    return LB[1:]"
   ],
   "metadata": {
    "collapsed": false,
    "pycharm": {
     "name": "#%%\n"
    }
   }
  },
  {
   "cell_type": "markdown",
   "source": [
    "## LB统计量计算函数"
   ],
   "metadata": {
    "collapsed": false,
    "pycharm": {
     "name": "#%% md\n"
    }
   }
  },
  {
   "cell_type": "code",
   "execution_count": null,
   "outputs": [],
   "source": [
    "def mydrawts(y,pname):\n",
    "##draw ax\\n\",\n",
    "    myname='LIU_CHUAN'\n",
    "    fig = plt.figure(figsize=(10,8))\n",
    "    ts_ax=plt.subplot2grid((2,2),(0,0),colspan=2)\n",
    "    acf_ax=plt.subplot2grid((2,2),(1,0))\n",
    "    pacf_ax=plt.subplot2grid((2,2),(1,1))\n",
    "    ##draw plot\\n\",\n",
    "    ts_ax.plot(y,'*-')\n",
    "    #设置标题\n",
    "    ts_ax.set_title('Time Series Analysis Plots(custom %s)'%myname)\n",
    "\n",
    "    myacf=np.ones((17))\n",
    "    n=len(y)\n",
    "    mean_value=y.mean()\n",
    "    for k in range(17):\n",
    "        Numerator=0\n",
    "        Denominator=0\n",
    "        for i in range(0,n-k):\n",
    "            Numerator+=(y[i]-mean_value)*(y[i+k]-mean_value)\n",
    "        for i in range(0,n):\n",
    "            Denominator+=(y[i]-mean_value)**2\n",
    "        myacf[k]=Numerator/Denominator\n",
    "\n",
    "    twosigma=np.ones((17))\n",
    "    twosigma[0]=(1/n)**0.5\n",
    "    for i in range(0,17):\n",
    "        sum=0\n",
    "        for j in range(0,i):\n",
    "            sum+=myacf[j]**2\n",
    "        twosigma[i]=((1/n)*(1+2*sum))**0.5\n",
    "    acf_ax.bar(range(len(myacf)),myacf)\n",
    "    acf_ax.fill_between(range(len(myacf)),-1*twosigma,twosigma,color='lightblue',alpha=0.7)\n",
    "    #plt.savefig('%s.jpg'%pname,dpi=256)\\n\",\n",
    "    plt.show()\n",
    "    plt.close()"
   ],
   "metadata": {
    "collapsed": false,
    "pycharm": {
     "name": "#%%\n"
    }
   }
  },
  {
   "cell_type": "markdown",
   "source": [
    "## 自定义绘图函数"
   ],
   "metadata": {
    "collapsed": false,
    "pycharm": {
     "name": "#%% md\n"
    }
   }
  },
  {
   "cell_type": "code",
   "execution_count": null,
   "outputs": [],
   "source": [
    "if __name__ == '__main__':\n",
    "    df='./HW2-1/附录1.4(1).csv'\n",
    "    y = pd.read_csv('%s' % df, header=None)\n",
    "    y.iloc[:, 0] = y.iloc[:, 0].astype('float')\n",
    "\n",
    "    y = y.values[:, 0]\n",
    "\n",
    "    my_acf=calcuate_acf(y)\n",
    "    LB=mypurerandtest(y,my_acf)\n",
    "    print(my_acf)\n",
    "    print('*'*20)\n",
    "    print(LB)\n",
    "    print('*'*20)\n",
    "    print('延迟6期的LB为',LB[5])\n",
    "    print('延迟12期的LB为',LB[11])\n",
    "    lb=lb_test(y,12)\n",
    "    print(lb)\n",
    "    mydrawts(y,df)"
   ],
   "metadata": {
    "collapsed": false,
    "pycharm": {
     "name": "#%%\n"
    }
   }
  },
  {
   "cell_type": "markdown",
   "source": [
    "## 2.2 A"
   ],
   "metadata": {
    "collapsed": false,
    "pycharm": {
     "name": "#%% md\n"
    }
   }
  },
  {
   "cell_type": "code",
   "execution_count": null,
   "outputs": [],
   "source": [
    "if __name__ == '__main__':\n",
    "    df='./HW2-2/data1.5.csv'\n",
    "    y = pd.read_csv('%s' % df, header=None)\n",
    "    y.iloc[:, 0] = y.iloc[:, 0].astype('float')\n",
    "    y = y.values[:, 0]\n",
    "    my_acf=calcuate_acf(y)\n",
    "    LB=mypurerandtest(y,my_acf)\n",
    "    print(my_acf)\n",
    "    print('*'*20)\n",
    "    print(LB)\n",
    "    print('*'*20)\n",
    "    print('延迟6期的LB为',LB[5])\n",
    "    print('延迟12期的LB为',LB[11])\n",
    "    lb=lb_test(y,12)\n",
    "    print(lb)\n",
    "    mydrawts(y,df)"
   ],
   "metadata": {
    "collapsed": false,
    "pycharm": {
     "name": "#%%\n"
    }
   }
  },
  {
   "cell_type": "markdown",
   "source": [
    "## 2.2 B"
   ],
   "metadata": {
    "collapsed": false,
    "pycharm": {
     "name": "#%% md\n"
    }
   }
  },
  {
   "cell_type": "code",
   "execution_count": null,
   "outputs": [],
   "source": [
    "if __name__ == '__main__':\n",
    "    df='./HW2-2/table2.6.csv'\n",
    "    y = pd.read_csv('%s' % df, header=None)\n",
    "    y.iloc[:, 0] = y.iloc[:, 0].astype('float')\n",
    "    y = y.values[:, 0]\n",
    "\n",
    "    yt = np.ones(len(y)-1)\n",
    "    for i in range(1, len(y)-1):\n",
    "        yt[i] = y[i] - y[i-1]\n",
    "\n",
    "    my_acf=calcuate_acf(yt)\n",
    "    LB=mypurerandtest(yt,my_acf)\n",
    "    print(my_acf)\n",
    "    print('*'*20)\n",
    "    print(LB)\n",
    "    print('*'*20)\n",
    "    print('延迟6期的LB为',LB[5])\n",
    "    print('延迟12期的LB为',LB[11])\n",
    "    lb=lb_test(yt,12)\n",
    "    print(lb)\n",
    "    mydrawts(yt,df)"
   ],
   "metadata": {
    "collapsed": false,
    "pycharm": {
     "name": "#%%\n"
    }
   }
  },
  {
   "cell_type": "markdown",
   "source": [
    "## 2.2 C"
   ],
   "metadata": {
    "collapsed": false,
    "pycharm": {
     "name": "#%% md\n"
    }
   }
  }
 ],
 "metadata": {
  "kernelspec": {
   "display_name": "Python 3",
   "language": "python",
   "name": "python3"
  },
  "language_info": {
   "codemirror_mode": {
    "name": "ipython",
    "version": 3
   },
   "file_extension": ".py",
   "mimetype": "text/x-python",
   "name": "python",
   "nbconvert_exporter": "python",
   "pygments_lexer": "ipython3",
   "version": "3.8.3"
  }
 },
 "nbformat": 4,
 "nbformat_minor": 4
}